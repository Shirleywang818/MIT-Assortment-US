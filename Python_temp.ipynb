{
 "cells": [
  {
   "cell_type": "code",
   "execution_count": 5,
   "metadata": {},
   "outputs": [],
   "source": [
    "import pandas as pd\n",
    "import numpy as np\n",
    "import statsmodels.api as sm\n",
    "import matplotlib.pyplot as plt\n",
    "import PreferenceModeling\n",
    "import pyomo\n",
    "import Rollup\n",
    "import time\n",
    "import random\n",
    "from sklearn import linear_model\n",
    "import statsmodels.formula.api as smf\n",
    "import pickle\n",
    "\n",
    "import seaborn as sns\n",
    "sns.set(color_codes=True)\n",
    "\n",
    "pd.options.display.max_columns = 75\n",
    "pd.options.display.max_rows = 100\n",
    "\n",
    "path = \"../Capstone Data/JDA-Plan/\""
   ]
  },
  {
   "cell_type": "code",
   "execution_count": 6,
   "metadata": {},
   "outputs": [],
   "source": [
    "texas_df = pd.read_csv(path + 'Texas_sales.csv')\n",
    "texas_df = texas_df[~texas_df.duplicated(['RESETNAME','rtlr_party_id','UPC'])]\n",
    "texas_df = texas_df[texas_df[\"RESETNAME\"] == \"2017 Spring\"]\n",
    "texas_df[\"Brand_Package\"] = texas_df['Brand'] + \" \" + texas_df['Package']\n",
    "\n",
    "demo = pd.read_csv(path + 'demo_TX.rpt')"
   ]
  },
  {
   "cell_type": "markdown",
   "metadata": {},
   "source": [
    "## Read in data from tree modeling"
   ]
  },
  {
   "cell_type": "code",
   "execution_count": 7,
   "metadata": {},
   "outputs": [],
   "source": [
    "train = pd.read_csv(path + 'train_df.csv')\n",
    "test = pd.read_csv(path + 'test_df.csv')\n",
    "julia_df = pd.concat([train, test])"
   ]
  },
  {
   "cell_type": "code",
   "execution_count": 8,
   "metadata": {},
   "outputs": [
    {
     "data": {
      "text/html": [
       "<div>\n",
       "<style scoped>\n",
       "    .dataframe tbody tr th:only-of-type {\n",
       "        vertical-align: middle;\n",
       "    }\n",
       "\n",
       "    .dataframe tbody tr th {\n",
       "        vertical-align: top;\n",
       "    }\n",
       "\n",
       "    .dataframe thead th {\n",
       "        text-align: right;\n",
       "    }\n",
       "</style>\n",
       "<table border=\"1\" class=\"dataframe\">\n",
       "  <thead>\n",
       "    <tr style=\"text-align: right;\">\n",
       "      <th></th>\n",
       "      <th>rtlr_party_id</th>\n",
       "      <th>aggr_id</th>\n",
       "      <th>productTotal</th>\n",
       "      <th>storeTotal</th>\n",
       "      <th>volShare</th>\n",
       "      <th>nSKUs</th>\n",
       "      <th>meanPrice</th>\n",
       "      <th>productTotal_1</th>\n",
       "      <th>storeTotal_1</th>\n",
       "      <th>valueShare</th>\n",
       "      <th>meanPrice_1</th>\n",
       "      <th>productTotal_2</th>\n",
       "      <th>storeTotal_2</th>\n",
       "      <th>movementShare</th>\n",
       "      <th>meanPrice_2</th>\n",
       "      <th>x</th>\n",
       "      <th>cya01v001</th>\n",
       "      <th>cyec17v001</th>\n",
       "      <th>cypopdens</th>\n",
       "      <th>pycypopgrw</th>\n",
       "      <th>xcya04t21p</th>\n",
       "      <th>xcya04t65p</th>\n",
       "      <th>xcya08v001</th>\n",
       "      <th>xcya08v002</th>\n",
       "      <th>xcya08v003</th>\n",
       "      <th>xcya08v004</th>\n",
       "      <th>xcya08v005</th>\n",
       "      <th>xcya08v006</th>\n",
       "      <th>xcya08v007</th>\n",
       "      <th>xcyd04v003</th>\n",
       "      <th>xcyea06v001</th>\n",
       "      <th>xcymale</th>\n",
       "      <th>xmosbpd18</th>\n",
       "      <th>retailer_party_id</th>\n",
       "      <th>retailer_facings</th>\n",
       "      <th>Grocery</th>\n",
       "      <th>Drug</th>\n",
       "      <th>...</th>\n",
       "      <th>s127</th>\n",
       "      <th>s128</th>\n",
       "      <th>s129</th>\n",
       "      <th>s130</th>\n",
       "      <th>s131</th>\n",
       "      <th>s132</th>\n",
       "      <th>s133</th>\n",
       "      <th>s134</th>\n",
       "      <th>s135</th>\n",
       "      <th>s136</th>\n",
       "      <th>s137</th>\n",
       "      <th>s138</th>\n",
       "      <th>s139</th>\n",
       "      <th>s140</th>\n",
       "      <th>s141</th>\n",
       "      <th>s142</th>\n",
       "      <th>s143</th>\n",
       "      <th>s144</th>\n",
       "      <th>s145</th>\n",
       "      <th>s146</th>\n",
       "      <th>s147</th>\n",
       "      <th>s148</th>\n",
       "      <th>s149</th>\n",
       "      <th>s150</th>\n",
       "      <th>s151</th>\n",
       "      <th>s152</th>\n",
       "      <th>s153</th>\n",
       "      <th>s154</th>\n",
       "      <th>s155</th>\n",
       "      <th>s156</th>\n",
       "      <th>s157</th>\n",
       "      <th>s158</th>\n",
       "      <th>s159</th>\n",
       "      <th>s160</th>\n",
       "      <th>s161</th>\n",
       "      <th>s162</th>\n",
       "      <th>leaf</th>\n",
       "    </tr>\n",
       "  </thead>\n",
       "  <tbody>\n",
       "    <tr>\n",
       "      <th>0</th>\n",
       "      <td>5646527</td>\n",
       "      <td>BrandPackageCategory_Bud Light small</td>\n",
       "      <td>51.428571</td>\n",
       "      <td>8665.906571</td>\n",
       "      <td>0.005935</td>\n",
       "      <td>1</td>\n",
       "      <td>0.102584</td>\n",
       "      <td>5.275760</td>\n",
       "      <td>768.545332</td>\n",
       "      <td>0.006865</td>\n",
       "      <td>7.386065</td>\n",
       "      <td>5.275760</td>\n",
       "      <td>768.545332</td>\n",
       "      <td>0.006865</td>\n",
       "      <td>0.714286</td>\n",
       "      <td>671</td>\n",
       "      <td>1245.8</td>\n",
       "      <td>53258.6</td>\n",
       "      <td>660.576</td>\n",
       "      <td>1.041</td>\n",
       "      <td>65.534</td>\n",
       "      <td>11.151</td>\n",
       "      <td>70.918</td>\n",
       "      <td>3.261</td>\n",
       "      <td>1.237</td>\n",
       "      <td>0.276</td>\n",
       "      <td>0.051</td>\n",
       "      <td>21.817</td>\n",
       "      <td>2.439</td>\n",
       "      <td>4.944</td>\n",
       "      <td>64.023</td>\n",
       "      <td>49.485</td>\n",
       "      <td>0.0</td>\n",
       "      <td>5646527.0</td>\n",
       "      <td>124</td>\n",
       "      <td>0</td>\n",
       "      <td>0</td>\n",
       "      <td>...</td>\n",
       "      <td>0</td>\n",
       "      <td>0</td>\n",
       "      <td>0</td>\n",
       "      <td>0</td>\n",
       "      <td>0</td>\n",
       "      <td>0</td>\n",
       "      <td>0</td>\n",
       "      <td>0</td>\n",
       "      <td>0</td>\n",
       "      <td>0</td>\n",
       "      <td>0</td>\n",
       "      <td>0</td>\n",
       "      <td>0</td>\n",
       "      <td>0</td>\n",
       "      <td>0</td>\n",
       "      <td>0</td>\n",
       "      <td>0</td>\n",
       "      <td>0</td>\n",
       "      <td>0</td>\n",
       "      <td>0</td>\n",
       "      <td>0</td>\n",
       "      <td>0</td>\n",
       "      <td>0</td>\n",
       "      <td>0</td>\n",
       "      <td>0</td>\n",
       "      <td>0</td>\n",
       "      <td>0</td>\n",
       "      <td>0</td>\n",
       "      <td>0</td>\n",
       "      <td>0</td>\n",
       "      <td>0</td>\n",
       "      <td>0</td>\n",
       "      <td>0</td>\n",
       "      <td>0</td>\n",
       "      <td>0</td>\n",
       "      <td>0</td>\n",
       "      <td>2</td>\n",
       "    </tr>\n",
       "    <tr>\n",
       "      <th>1</th>\n",
       "      <td>5646527</td>\n",
       "      <td>BrandPackageCategory_Corona Extra medium</td>\n",
       "      <td>22.854857</td>\n",
       "      <td>8665.906571</td>\n",
       "      <td>0.002637</td>\n",
       "      <td>1</td>\n",
       "      <td>0.110194</td>\n",
       "      <td>2.518479</td>\n",
       "      <td>768.545332</td>\n",
       "      <td>0.003277</td>\n",
       "      <td>15.868006</td>\n",
       "      <td>2.518479</td>\n",
       "      <td>768.545332</td>\n",
       "      <td>0.003277</td>\n",
       "      <td>0.158714</td>\n",
       "      <td>671</td>\n",
       "      <td>1245.8</td>\n",
       "      <td>53258.6</td>\n",
       "      <td>660.576</td>\n",
       "      <td>1.041</td>\n",
       "      <td>65.534</td>\n",
       "      <td>11.151</td>\n",
       "      <td>70.918</td>\n",
       "      <td>3.261</td>\n",
       "      <td>1.237</td>\n",
       "      <td>0.276</td>\n",
       "      <td>0.051</td>\n",
       "      <td>21.817</td>\n",
       "      <td>2.439</td>\n",
       "      <td>4.944</td>\n",
       "      <td>64.023</td>\n",
       "      <td>49.485</td>\n",
       "      <td>0.0</td>\n",
       "      <td>5646527.0</td>\n",
       "      <td>124</td>\n",
       "      <td>0</td>\n",
       "      <td>0</td>\n",
       "      <td>...</td>\n",
       "      <td>0</td>\n",
       "      <td>0</td>\n",
       "      <td>0</td>\n",
       "      <td>0</td>\n",
       "      <td>0</td>\n",
       "      <td>0</td>\n",
       "      <td>0</td>\n",
       "      <td>0</td>\n",
       "      <td>0</td>\n",
       "      <td>0</td>\n",
       "      <td>0</td>\n",
       "      <td>0</td>\n",
       "      <td>0</td>\n",
       "      <td>0</td>\n",
       "      <td>0</td>\n",
       "      <td>0</td>\n",
       "      <td>0</td>\n",
       "      <td>0</td>\n",
       "      <td>0</td>\n",
       "      <td>0</td>\n",
       "      <td>0</td>\n",
       "      <td>0</td>\n",
       "      <td>0</td>\n",
       "      <td>0</td>\n",
       "      <td>0</td>\n",
       "      <td>0</td>\n",
       "      <td>0</td>\n",
       "      <td>0</td>\n",
       "      <td>0</td>\n",
       "      <td>0</td>\n",
       "      <td>0</td>\n",
       "      <td>0</td>\n",
       "      <td>0</td>\n",
       "      <td>0</td>\n",
       "      <td>0</td>\n",
       "      <td>0</td>\n",
       "      <td>2</td>\n",
       "    </tr>\n",
       "    <tr>\n",
       "      <th>2</th>\n",
       "      <td>5646527</td>\n",
       "      <td>BrandPackageCategory_Corona Extra small</td>\n",
       "      <td>30.857143</td>\n",
       "      <td>8665.906571</td>\n",
       "      <td>0.003561</td>\n",
       "      <td>1</td>\n",
       "      <td>0.122155</td>\n",
       "      <td>3.769360</td>\n",
       "      <td>768.545332</td>\n",
       "      <td>0.004905</td>\n",
       "      <td>8.795174</td>\n",
       "      <td>3.769360</td>\n",
       "      <td>768.545332</td>\n",
       "      <td>0.004905</td>\n",
       "      <td>0.428571</td>\n",
       "      <td>671</td>\n",
       "      <td>1245.8</td>\n",
       "      <td>53258.6</td>\n",
       "      <td>660.576</td>\n",
       "      <td>1.041</td>\n",
       "      <td>65.534</td>\n",
       "      <td>11.151</td>\n",
       "      <td>70.918</td>\n",
       "      <td>3.261</td>\n",
       "      <td>1.237</td>\n",
       "      <td>0.276</td>\n",
       "      <td>0.051</td>\n",
       "      <td>21.817</td>\n",
       "      <td>2.439</td>\n",
       "      <td>4.944</td>\n",
       "      <td>64.023</td>\n",
       "      <td>49.485</td>\n",
       "      <td>0.0</td>\n",
       "      <td>5646527.0</td>\n",
       "      <td>124</td>\n",
       "      <td>0</td>\n",
       "      <td>0</td>\n",
       "      <td>...</td>\n",
       "      <td>0</td>\n",
       "      <td>0</td>\n",
       "      <td>0</td>\n",
       "      <td>0</td>\n",
       "      <td>0</td>\n",
       "      <td>0</td>\n",
       "      <td>0</td>\n",
       "      <td>0</td>\n",
       "      <td>0</td>\n",
       "      <td>0</td>\n",
       "      <td>0</td>\n",
       "      <td>0</td>\n",
       "      <td>0</td>\n",
       "      <td>0</td>\n",
       "      <td>0</td>\n",
       "      <td>0</td>\n",
       "      <td>0</td>\n",
       "      <td>0</td>\n",
       "      <td>0</td>\n",
       "      <td>0</td>\n",
       "      <td>0</td>\n",
       "      <td>0</td>\n",
       "      <td>0</td>\n",
       "      <td>0</td>\n",
       "      <td>0</td>\n",
       "      <td>0</td>\n",
       "      <td>0</td>\n",
       "      <td>0</td>\n",
       "      <td>0</td>\n",
       "      <td>0</td>\n",
       "      <td>0</td>\n",
       "      <td>0</td>\n",
       "      <td>0</td>\n",
       "      <td>0</td>\n",
       "      <td>0</td>\n",
       "      <td>0</td>\n",
       "      <td>2</td>\n",
       "    </tr>\n",
       "    <tr>\n",
       "      <th>3</th>\n",
       "      <td>5646527</td>\n",
       "      <td>BrandPackageCategory_Corona Light medium</td>\n",
       "      <td>0.000000</td>\n",
       "      <td>8665.906571</td>\n",
       "      <td>0.000000</td>\n",
       "      <td>1</td>\n",
       "      <td>0.105282</td>\n",
       "      <td>0.000000</td>\n",
       "      <td>768.545332</td>\n",
       "      <td>0.000000</td>\n",
       "      <td>15.160587</td>\n",
       "      <td>0.000000</td>\n",
       "      <td>768.545332</td>\n",
       "      <td>0.000000</td>\n",
       "      <td>0.000000</td>\n",
       "      <td>671</td>\n",
       "      <td>1245.8</td>\n",
       "      <td>53258.6</td>\n",
       "      <td>660.576</td>\n",
       "      <td>1.041</td>\n",
       "      <td>65.534</td>\n",
       "      <td>11.151</td>\n",
       "      <td>70.918</td>\n",
       "      <td>3.261</td>\n",
       "      <td>1.237</td>\n",
       "      <td>0.276</td>\n",
       "      <td>0.051</td>\n",
       "      <td>21.817</td>\n",
       "      <td>2.439</td>\n",
       "      <td>4.944</td>\n",
       "      <td>64.023</td>\n",
       "      <td>49.485</td>\n",
       "      <td>0.0</td>\n",
       "      <td>5646527.0</td>\n",
       "      <td>124</td>\n",
       "      <td>0</td>\n",
       "      <td>0</td>\n",
       "      <td>...</td>\n",
       "      <td>0</td>\n",
       "      <td>0</td>\n",
       "      <td>0</td>\n",
       "      <td>0</td>\n",
       "      <td>0</td>\n",
       "      <td>0</td>\n",
       "      <td>1</td>\n",
       "      <td>1</td>\n",
       "      <td>1</td>\n",
       "      <td>1</td>\n",
       "      <td>1</td>\n",
       "      <td>1</td>\n",
       "      <td>1</td>\n",
       "      <td>1</td>\n",
       "      <td>1</td>\n",
       "      <td>1</td>\n",
       "      <td>1</td>\n",
       "      <td>0</td>\n",
       "      <td>0</td>\n",
       "      <td>0</td>\n",
       "      <td>0</td>\n",
       "      <td>0</td>\n",
       "      <td>0</td>\n",
       "      <td>0</td>\n",
       "      <td>0</td>\n",
       "      <td>0</td>\n",
       "      <td>0</td>\n",
       "      <td>0</td>\n",
       "      <td>0</td>\n",
       "      <td>0</td>\n",
       "      <td>0</td>\n",
       "      <td>0</td>\n",
       "      <td>0</td>\n",
       "      <td>0</td>\n",
       "      <td>0</td>\n",
       "      <td>0</td>\n",
       "      <td>2</td>\n",
       "    </tr>\n",
       "    <tr>\n",
       "      <th>4</th>\n",
       "      <td>5646527</td>\n",
       "      <td>BrandPackageCategory_Michelob Ultra large</td>\n",
       "      <td>377.125714</td>\n",
       "      <td>8665.906571</td>\n",
       "      <td>0.043518</td>\n",
       "      <td>1</td>\n",
       "      <td>0.084200</td>\n",
       "      <td>31.753993</td>\n",
       "      <td>768.545332</td>\n",
       "      <td>0.041317</td>\n",
       "      <td>30.312007</td>\n",
       "      <td>31.753993</td>\n",
       "      <td>768.545332</td>\n",
       "      <td>0.041317</td>\n",
       "      <td>1.047571</td>\n",
       "      <td>671</td>\n",
       "      <td>1245.8</td>\n",
       "      <td>53258.6</td>\n",
       "      <td>660.576</td>\n",
       "      <td>1.041</td>\n",
       "      <td>65.534</td>\n",
       "      <td>11.151</td>\n",
       "      <td>70.918</td>\n",
       "      <td>3.261</td>\n",
       "      <td>1.237</td>\n",
       "      <td>0.276</td>\n",
       "      <td>0.051</td>\n",
       "      <td>21.817</td>\n",
       "      <td>2.439</td>\n",
       "      <td>4.944</td>\n",
       "      <td>64.023</td>\n",
       "      <td>49.485</td>\n",
       "      <td>0.0</td>\n",
       "      <td>5646527.0</td>\n",
       "      <td>124</td>\n",
       "      <td>0</td>\n",
       "      <td>0</td>\n",
       "      <td>...</td>\n",
       "      <td>0</td>\n",
       "      <td>0</td>\n",
       "      <td>0</td>\n",
       "      <td>0</td>\n",
       "      <td>0</td>\n",
       "      <td>0</td>\n",
       "      <td>0</td>\n",
       "      <td>0</td>\n",
       "      <td>0</td>\n",
       "      <td>0</td>\n",
       "      <td>0</td>\n",
       "      <td>0</td>\n",
       "      <td>0</td>\n",
       "      <td>0</td>\n",
       "      <td>0</td>\n",
       "      <td>0</td>\n",
       "      <td>0</td>\n",
       "      <td>0</td>\n",
       "      <td>0</td>\n",
       "      <td>0</td>\n",
       "      <td>0</td>\n",
       "      <td>0</td>\n",
       "      <td>0</td>\n",
       "      <td>0</td>\n",
       "      <td>0</td>\n",
       "      <td>0</td>\n",
       "      <td>0</td>\n",
       "      <td>0</td>\n",
       "      <td>0</td>\n",
       "      <td>0</td>\n",
       "      <td>0</td>\n",
       "      <td>0</td>\n",
       "      <td>0</td>\n",
       "      <td>0</td>\n",
       "      <td>0</td>\n",
       "      <td>0</td>\n",
       "      <td>2</td>\n",
       "    </tr>\n",
       "  </tbody>\n",
       "</table>\n",
       "<p>5 rows × 201 columns</p>\n",
       "</div>"
      ],
      "text/plain": [
       "   rtlr_party_id                                    aggr_id  productTotal  \\\n",
       "0        5646527       BrandPackageCategory_Bud Light small     51.428571   \n",
       "1        5646527   BrandPackageCategory_Corona Extra medium     22.854857   \n",
       "2        5646527    BrandPackageCategory_Corona Extra small     30.857143   \n",
       "3        5646527   BrandPackageCategory_Corona Light medium      0.000000   \n",
       "4        5646527  BrandPackageCategory_Michelob Ultra large    377.125714   \n",
       "\n",
       "    storeTotal  volShare  nSKUs  meanPrice  productTotal_1  storeTotal_1  \\\n",
       "0  8665.906571  0.005935      1   0.102584        5.275760    768.545332   \n",
       "1  8665.906571  0.002637      1   0.110194        2.518479    768.545332   \n",
       "2  8665.906571  0.003561      1   0.122155        3.769360    768.545332   \n",
       "3  8665.906571  0.000000      1   0.105282        0.000000    768.545332   \n",
       "4  8665.906571  0.043518      1   0.084200       31.753993    768.545332   \n",
       "\n",
       "   valueShare  meanPrice_1  productTotal_2  storeTotal_2  movementShare  \\\n",
       "0    0.006865     7.386065        5.275760    768.545332       0.006865   \n",
       "1    0.003277    15.868006        2.518479    768.545332       0.003277   \n",
       "2    0.004905     8.795174        3.769360    768.545332       0.004905   \n",
       "3    0.000000    15.160587        0.000000    768.545332       0.000000   \n",
       "4    0.041317    30.312007       31.753993    768.545332       0.041317   \n",
       "\n",
       "   meanPrice_2    x  cya01v001  cyec17v001  cypopdens  pycypopgrw  xcya04t21p  \\\n",
       "0     0.714286  671     1245.8     53258.6    660.576       1.041      65.534   \n",
       "1     0.158714  671     1245.8     53258.6    660.576       1.041      65.534   \n",
       "2     0.428571  671     1245.8     53258.6    660.576       1.041      65.534   \n",
       "3     0.000000  671     1245.8     53258.6    660.576       1.041      65.534   \n",
       "4     1.047571  671     1245.8     53258.6    660.576       1.041      65.534   \n",
       "\n",
       "   xcya04t65p  xcya08v001  xcya08v002  xcya08v003  xcya08v004  xcya08v005  \\\n",
       "0      11.151      70.918       3.261       1.237       0.276       0.051   \n",
       "1      11.151      70.918       3.261       1.237       0.276       0.051   \n",
       "2      11.151      70.918       3.261       1.237       0.276       0.051   \n",
       "3      11.151      70.918       3.261       1.237       0.276       0.051   \n",
       "4      11.151      70.918       3.261       1.237       0.276       0.051   \n",
       "\n",
       "   xcya08v006  xcya08v007  xcyd04v003  xcyea06v001  xcymale  xmosbpd18  \\\n",
       "0      21.817       2.439       4.944       64.023   49.485        0.0   \n",
       "1      21.817       2.439       4.944       64.023   49.485        0.0   \n",
       "2      21.817       2.439       4.944       64.023   49.485        0.0   \n",
       "3      21.817       2.439       4.944       64.023   49.485        0.0   \n",
       "4      21.817       2.439       4.944       64.023   49.485        0.0   \n",
       "\n",
       "   retailer_party_id  retailer_facings  Grocery  Drug  ...   s127  s128  s129  \\\n",
       "0          5646527.0               124        0     0  ...      0     0     0   \n",
       "1          5646527.0               124        0     0  ...      0     0     0   \n",
       "2          5646527.0               124        0     0  ...      0     0     0   \n",
       "3          5646527.0               124        0     0  ...      0     0     0   \n",
       "4          5646527.0               124        0     0  ...      0     0     0   \n",
       "\n",
       "   s130  s131  s132  s133  s134  s135  s136  s137  s138  s139  s140  s141  \\\n",
       "0     0     0     0     0     0     0     0     0     0     0     0     0   \n",
       "1     0     0     0     0     0     0     0     0     0     0     0     0   \n",
       "2     0     0     0     0     0     0     0     0     0     0     0     0   \n",
       "3     0     0     0     1     1     1     1     1     1     1     1     1   \n",
       "4     0     0     0     0     0     0     0     0     0     0     0     0   \n",
       "\n",
       "   s142  s143  s144  s145  s146  s147  s148  s149  s150  s151  s152  s153  \\\n",
       "0     0     0     0     0     0     0     0     0     0     0     0     0   \n",
       "1     0     0     0     0     0     0     0     0     0     0     0     0   \n",
       "2     0     0     0     0     0     0     0     0     0     0     0     0   \n",
       "3     1     1     0     0     0     0     0     0     0     0     0     0   \n",
       "4     0     0     0     0     0     0     0     0     0     0     0     0   \n",
       "\n",
       "   s154  s155  s156  s157  s158  s159  s160  s161  s162  leaf  \n",
       "0     0     0     0     0     0     0     0     0     0     2  \n",
       "1     0     0     0     0     0     0     0     0     0     2  \n",
       "2     0     0     0     0     0     0     0     0     0     2  \n",
       "3     0     0     0     0     0     0     0     0     0     2  \n",
       "4     0     0     0     0     0     0     0     0     0     2  \n",
       "\n",
       "[5 rows x 201 columns]"
      ]
     },
     "execution_count": 8,
     "metadata": {},
     "output_type": "execute_result"
    }
   ],
   "source": [
    "train.head()"
   ]
  },
  {
   "cell_type": "code",
   "execution_count": 10,
   "metadata": {},
   "outputs": [],
   "source": [
    "def upcToBrandPackage(prod):\n",
    "    if prod[0:4] == 'UPC_':\n",
    "        return(texas_df[texas_df[\"UPC\"].astype(str) == prod[4:]].head(1)[['Brand_Package']].values[0][0])\n",
    "    else:\n",
    "        return(prod)\n",
    "    \n",
    "upcBrandPackageMapping = {upc:upcToBrandPackage(upc) for upc in julia_df.aggr_id.unique()}\n",
    "upcBrandPackageMapping['no_purchase'] = 'no_purchase'"
   ]
  },
  {
   "cell_type": "markdown",
   "metadata": {},
   "source": [
    "## Optimize each leaf separately and report results\n",
    "\n",
    "#### Train models (only do if not loading pickled results)"
   ]
  },
  {
   "cell_type": "code",
   "execution_count": null,
   "metadata": {},
   "outputs": [],
   "source": [
    "# Get all products in the leaf and generate preferences\n",
    "products = set(julia_df.aggr_id.unique())\n",
    "products.add('no_purchase')\n",
    "prefs = PreferenceModeling.generateRandomPreferences(products, num_start_cols = 200)"
   ]
  },
  {
   "cell_type": "code",
   "execution_count": null,
   "metadata": {},
   "outputs": [],
   "source": [
    "# Find prices in each leaf\n",
    "prices = dict()\n",
    "# start by trying to get median prices in that leaf\n",
    "for leaf in julia_df['leaf'].unique():\n",
    "    juliaDFLeaf = julia_df[julia_df['leaf'] == leaf]\n",
    "    prices[leaf] = {prod:juliaDFLeaf[juliaDFLeaf['aggr_id'] == prod]['meanPrice_1'].median() for prod in products}\n",
    "    assert all(prices[leaf].values()) > 0\n",
    "    prices[leaf]['no_purchase'] = 0\n",
    "\n",
    "# if we can't get prices from just the chain, use data from all stores at that chain in the state\n",
    "for leaf in julia_df['leaf'].unique():\n",
    "    for prod in products:\n",
    "        if np.isnan(prices[leaf][prod]):\n",
    "            prices[leaf][prod] = julia_df[julia_df['aggr_id'] == prod]['meanPrice_1'].median()\n",
    "\n",
    "# Check that we have all real prices\n",
    "assert all([all(map(np.isnan, prices[leaf].values())) for leaf in julia_df['leaf'].unique()]) == False"
   ]
  },
  {
   "cell_type": "markdown",
   "metadata": {},
   "source": [
    "Find the products in a leaf, generate preferences, and optimize"
   ]
  },
  {
   "cell_type": "code",
   "execution_count": null,
   "metadata": {},
   "outputs": [],
   "source": [
    "# Pregenerate the optimization inputs for computational efficiency. Only do this if running the model multiple times on the same leaf\n",
    "optimizationInputs = dict()\n",
    "start = time.time()\n",
    "for leaf in julia_df.leaf.unique():\n",
    "    print leaf\n",
    "    optimizationInputs[leaf] = PreferenceModeling.generateVeliborPreferenceModelInputs(julia_df[julia_df['leaf'] == leaf], \n",
    "                                                                                       'aggr_id', 'valueShare', 'rtlr_party_id')\n",
    "print \"Cell took %.1f seconds to process\" % (time.time() - start)"
   ]
  },
  {
   "cell_type": "code",
   "execution_count": null,
   "metadata": {},
   "outputs": [],
   "source": [
    "# Optimize assortment\n",
    "start = time.time()\n",
    "optimal = dict()\n",
    "for leaf in julia_df.leaf.unique():\n",
    "    print leaf\n",
    "    optimal[leaf] = PreferenceModeling.findSingleOptimalAssortment(julia_df[julia_df['leaf'] == leaf], productCol = 'aggr_id', shareCol = 'valueShare', \n",
    "                                storeCol = 'rtlr_party_id', priceCol = 'meanPrice', useVelibor = True, prefs = prefs,\n",
    "                                prices = prices[leaf], optIn = optimizationInputs[leaf])\n",
    "    print 'The MAE of the preference model is %.4f' % optimal[leaf]['mae']\n",
    "print \"Cell took %.1f seconds to process\" % (time.time() - start)"
   ]
  },
  {
   "cell_type": "markdown",
   "metadata": {},
   "source": [
    "####  Save Model outputs"
   ]
  },
  {
   "cell_type": "code",
   "execution_count": null,
   "metadata": {},
   "outputs": [],
   "source": [
    "filename = path + 'optimizationInputs'\n",
    "outfile = open(filename,'wb')\n",
    "pickle.dump(optimizationInputs,outfile)\n",
    "outfile.close()"
   ]
  },
  {
   "cell_type": "code",
   "execution_count": null,
   "metadata": {},
   "outputs": [],
   "source": [
    "filename = path + 'preferenceModelOutputs'\n",
    "outfile = open(filename,'wb')\n",
    "pickle.dump(optimal,outfile)\n",
    "outfile.close()"
   ]
  },
  {
   "cell_type": "markdown",
   "metadata": {},
   "source": [
    "## Load model outputs and do reporting"
   ]
  },
  {
   "cell_type": "code",
   "execution_count": 11,
   "metadata": {},
   "outputs": [],
   "source": [
    "infile = open(path + 'optimizationInputs','rb')\n",
    "optimizationInputs = pickle.load(infile)\n",
    "infile.close()"
   ]
  },
  {
   "cell_type": "code",
   "execution_count": null,
   "metadata": {},
   "outputs": [],
   "source": [
    "infile = open(path + 'preferenceModelOutputs','rb')\n",
    "optimal = pickle.load(infile)\n",
    "infile.close()"
   ]
  },
  {
   "cell_type": "code",
   "execution_count": null,
   "metadata": {},
   "outputs": [],
   "source": [
    "# Set the leaf you want to look at in evaluation\n",
    "lf = 4"
   ]
  },
  {
   "cell_type": "code",
   "execution_count": null,
   "metadata": {},
   "outputs": [],
   "source": [
    "print 'The MAE of the preference model is %.4f' % optimal[lf]['mae']"
   ]
  },
  {
   "cell_type": "code",
   "execution_count": null,
   "metadata": {},
   "outputs": [],
   "source": [
    "print 'The most likely consumer types are:'\n",
    "PreferenceModeling.showTopConsumerTypes(optimal[lf][\"prefs\"], optimal[lf]['lambda'], mapping = upcBrandPackageMapping, numTypes = 5)"
   ]
  },
  {
   "cell_type": "code",
   "execution_count": null,
   "metadata": {},
   "outputs": [],
   "source": [
    "temp = [upcBrandPackageMapping[k] for (k,v) in optimal[lf]['assortment'].items()]\n",
    "temp.sort()\n",
    "print 'The optimal assortment with {0} out of {1} products is:'.format(len(temp),len(optimal[leaf][\"products\"]))\n",
    "print\n",
    "PreferenceModeling.prettyPrintList(temp)"
   ]
  },
  {
   "cell_type": "code",
   "execution_count": null,
   "metadata": {},
   "outputs": [],
   "source": [
    "print 'The predicted shares for the  optimal assortment are'\n",
    "optimalSharesDf = PreferenceModeling.predictShares(optimal[lf]['assortment'], optimal[lf]['prefs'], optimal[lf]['lambda'], upcBrandPackageMapping)\n",
    "sns.barplot(y = 'Product', x = 'Share', data = optimalSharesDf)"
   ]
  },
  {
   "cell_type": "code",
   "execution_count": null,
   "metadata": {},
   "outputs": [],
   "source": [
    "tempDf = julia_df[julia_df['leaf'] == lf]\n",
    "tempStore = tempDf.rtlr_party_id.iloc[0]\n",
    "tempAssortment = PreferenceModeling.getRealStoreAssortment(tempDf, 'rtlr_party_id', tempStore, 'aggr_id')\n",
    "print 'The predicted shares for store %d are' % tempStore\n",
    "fig, ax = plt.subplots()\n",
    "# the size of A4 paper\n",
    "fig.set_size_inches(8, 14)\n",
    "sns.barplot(y = 'Product', x = 'Share', \n",
    "            data = PreferenceModeling.predictShares(tempAssortment, optimal[lf]['prefs'], optimal[lf]['lambda'], upcBrandPackageMapping))"
   ]
  },
  {
   "cell_type": "markdown",
   "metadata": {},
   "source": [
    "#### Segment breakdown"
   ]
  },
  {
   "cell_type": "code",
   "execution_count": null,
   "metadata": {},
   "outputs": [],
   "source": [
    "productSegmentMapping = pd.read_csv(path + \"productSegmentMapping.csv\")\n",
    "productSegmentMapping = productSegmentMapping.append(pd.DataFrame([['No Purchase', 'no_purchase']], columns=['IRI_Sub_Segment','aggr_id']))\n",
    "# groups = {3:\"Grocery\",4:\"Drug\",5:\"Convenience\"}\n",
    "optimalSharesDf = pd.DataFrame()\n",
    "for leaf in julia_df.leaf.unique():\n",
    "    temp = PreferenceModeling.predictShares(optimal[leaf]['assortment'], optimal[leaf]['prefs'], optimal[leaf]['lambda'])\n",
    "    temp = temp.merge(productSegmentMapping, left_on = \"Product\", right_on = \"aggr_id\", how = \"inner\")\n",
    "    temp['leaf'] = leaf\n",
    "    print leaf\n",
    "    fig, ax = plt.subplots()\n",
    "    # the size of A4 paper\n",
    "    fig.set_size_inches(11, 8.5)\n",
    "    temp.groupby('IRI_Sub_Segment').Share.sum().sort_values().plot.barh()\n",
    "    plt.show()\n",
    "    optimalSharesDf = pd.concat([optimalSharesDf,temp])\n",
    "optimalSharesDf = optimalSharesDf.groupby(['leaf','IRI_Sub_Segment']).Share.sum().reset_index()\n",
    "optimalSharesDf = optimalSharesDf.sort_values(by = ['leaf', 'Share'], ascending = False)"
   ]
  },
  {
   "cell_type": "code",
   "execution_count": null,
   "metadata": {},
   "outputs": [],
   "source": [
    "fig, ax = plt.subplots()\n",
    "# the size of A4 paper\n",
    "fig.set_size_inches(11.7, 8.27)\n",
    "sns.barplot(y = 'IRI_Sub_Segment', x = 'Share', hue = 'leaf', data = optimalSharesDf)"
   ]
  },
  {
   "cell_type": "code",
   "execution_count": null,
   "metadata": {},
   "outputs": [],
   "source": [
    "temp = [upcBrandPackageMapping[k] for k in  products]\n",
    "temp.sort()\n",
    "PreferenceModeling.prettyPrintList(temp)"
   ]
  },
  {
   "cell_type": "markdown",
   "metadata": {},
   "source": [
    "#### Evaluate the preference model performance on different products (Fix by passing V through)"
   ]
  },
  {
   "cell_type": "code",
   "execution_count": null,
   "metadata": {},
   "outputs": [],
   "source": [
    "Amat, vmat = PreferenceModeling.convertToMatrix(optimal[lf][\"A\"], optIn[\"v\"])\n",
    "assert Amat.shape[0] == vmat.shape[0]"
   ]
  },
  {
   "cell_type": "code",
   "execution_count": null,
   "metadata": {},
   "outputs": [],
   "source": [
    "np.sum(np.abs(np.dot(Amat,optimal[lf]['lambda'].values()) - vmat))/np.shape(Amat)[0]"
   ]
  },
  {
   "cell_type": "code",
   "execution_count": null,
   "metadata": {},
   "outputs": [],
   "source": [
    "def convertToDf(A, v):\n",
    "    num_rows = len(A[0].keys())\n",
    "    num_cols = len(A.keys())\n",
    "    A_matrix = np.zeros((num_rows, num_cols))\n",
    "    v_matrix =  np.zeros(num_rows)\n",
    "    for col_counter, col_key in enumerate(A):\n",
    "        for row_counter, row_key in enumerate(A[0]):\n",
    "            A_matrix[row_counter, col_counter] = A[col_key][row_key]\n",
    "    \n",
    "    for row_counter, row_key in enumerate(A[0]):\n",
    "         v_matrix[row_counter] = v[row_key][0]\n",
    "            \n",
    "    rows = pd.DataFrame(A[0].keys(), columns = ['rtlr_party_id','aggr_id'])\n",
    "    ADf = pd.concat([rows,pd.DataFrame(A_matrix)], axis = 1)\n",
    "    vDf = pd.concat([rows,pd.DataFrame(v_matrix, columns = ['share'])], axis = 1)\n",
    "\n",
    "    return(ADf, vDf)"
   ]
  },
  {
   "cell_type": "code",
   "execution_count": null,
   "metadata": {},
   "outputs": [],
   "source": [
    "ADf, vDf = convertToDf(optimal[lf][\"A\"], optIn[\"v\"])"
   ]
  },
  {
   "cell_type": "code",
   "execution_count": null,
   "metadata": {},
   "outputs": [],
   "source": [
    "np.sum(np.abs(np.dot(ADf.iloc[:,2:],optimal[lf]['lambda'].values()) - vDf['share']))/np.shape(Amat)[0]"
   ]
  },
  {
   "cell_type": "code",
   "execution_count": null,
   "metadata": {},
   "outputs": [],
   "source": [
    "vDf['predShare'] = np.dot(ADf.iloc[:,2:],optimal[lf]['lambda'].values())"
   ]
  },
  {
   "cell_type": "code",
   "execution_count": null,
   "metadata": {},
   "outputs": [],
   "source": [
    "vDf['absDiff'] = np.abs(vDf['predShare'] - vDf['share'])\n",
    "vDf['percentDiff'] = np.abs(vDf['predShare'] - vDf['share']) / vDf['share']"
   ]
  },
  {
   "cell_type": "code",
   "execution_count": null,
   "metadata": {},
   "outputs": [],
   "source": [
    "def stdGrp(grp):\n",
    "    grp['std'] = grp['share'].std()\n",
    "    return(grp)\n",
    "def meanGrp(grp):\n",
    "    grp['mean'] = grp['share'].mean()\n",
    "    return(grp)\n",
    "vDf = vDf.groupby('aggr_id').apply(stdGrp)\n",
    "vDf = vDf.groupby('aggr_id').apply(meanGrp)\n",
    "vDf['absDiffPercentSTD'] = vDf['absDiff'] / vDf['std']\n",
    "vDf['meanModelAbsDiff'] = np.abs(vDf['mean'] - vDf['share'])\n",
    "vDf['modelRatio'] = vDf['absDiff'] / vDf['meanModelAbsDiff']"
   ]
  },
  {
   "cell_type": "code",
   "execution_count": null,
   "metadata": {},
   "outputs": [],
   "source": [
    "vDf.groupby('aggr_id').absDiffPercentSTD.mean().median()"
   ]
  },
  {
   "cell_type": "markdown",
   "metadata": {},
   "source": [
    "#### To do below (finish optimality gaps)"
   ]
  },
  {
   "cell_type": "code",
   "execution_count": null,
   "metadata": {},
   "outputs": [],
   "source": [
    "pricesDf = pd.DataFrame({upcBrandPackageMapping[k]:v for (k,v) in optimal['prices'].items()}.items(), columns = ['Product', 'Price'])"
   ]
  },
  {
   "cell_type": "code",
   "execution_count": null,
   "metadata": {},
   "outputs": [],
   "source": [
    "def findOptimalityGaps(optimalAssortment, prefs, lam, df, storeCol, productCol, prices, mapping =  'Idenity'):\n",
    "    '''\n",
    "    Calculate difference in expected value of current store assortments compared to optimal assortment\n",
    "    Args:\n",
    "        optimalAssortment (dict or set): \n",
    "    '''\n",
    "    gaps = dict()\n",
    "    \n",
    "    if mapping == 'Identity':\n",
    "        pricesDf = pd.DataFrame(prices.items(), columns = ['Product', 'Price'])\n",
    "    else:\n",
    "        pricesDf = pd.DataFrame({mapping[k]:v for (k,v) in prices.items()}.items(), columns = ['Product', 'Price'])\n",
    "        \n",
    "    optimalSharesDf = PreferenceModeling.predictShares(optimalAssortment, prefs, lam, mapping)\n",
    "    optimalSharesDf = optimalSharesDf.merge(pricesDf, on = 'Product', how = 'inner')\n",
    "    optEV = np.sum(optimalSharesDf['Share'] * optimalSharesDf['Price'])\n",
    "    \n",
    "    for store in df[storeCol].unique():\n",
    "        storeAssortment = PreferenceModeling.getRealStoreAssortment(df, storeCol, store, productCol)\n",
    "        storeShareDf = PreferenceModeling.predictShares(storeAssortment, prefs, lam, mapping)\n",
    "        storeShareDf = storeShareDf.merge(pricesDf, on = 'Product', how = 'inner')\n",
    "        storeEV = np.sum(storeShareDf['Share'] * storeShareDf['Price'])\n",
    "        gaps[store] = (optEV - storeEV) / storeEV\n",
    "    \n",
    "    gapsDf = pd.DataFrame(gaps.items(), columns = ['rtlr_party_id', 'gap']).sort_values(by = 'gap', ascending = False)\n",
    "    return(gapsDf)"
   ]
  },
  {
   "cell_type": "code",
   "execution_count": null,
   "metadata": {},
   "outputs": [],
   "source": [
    "findOptimalityGaps(optimal['assortment'], optimal['prefs'], optimal['lambda'], julia_df[julia_df['leaf'] == 4], \n",
    "                   'rtlr_party_id', 'aggr_id', optimal['prices'], mapping =  upcBrandPackageMapping)"
   ]
  },
  {
   "cell_type": "code",
   "execution_count": null,
   "metadata": {},
   "outputs": [],
   "source": [
    "optimal = evaluateAssortment(inAssortment, prefs, lam, pricesDf, upcMapping = upcBrandPackageMapping)\n",
    "gaps = dict()\n",
    "for store in optIn['stores']:\n",
    "    tempAssortment = set(julia_df_leaf[julia_df_leaf['rtlr_party_id'] == store].aggr_id.values).union(['no_purchase'])\n",
    "    tempAssortment = {item:1 for item in tempAssortment}\n",
    "    storeOut = evaluateAssortment(tempAssortment, prefs, lam, pricesDf, upcMapping = upcBrandPackageMapping)\n",
    "    gaps[store] = (optimal['ev'] - storeOut['ev'])/storeOut['ev']\n",
    "gaps = pd.DataFrame(gaps.items(), columns = ['rtlr_party_id', 'gap']).sort_values(by = 'gap', ascending = False)"
   ]
  },
  {
   "cell_type": "code",
   "execution_count": null,
   "metadata": {},
   "outputs": [],
   "source": [
    "gaps.head()"
   ]
  },
  {
   "cell_type": "code",
   "execution_count": null,
   "metadata": {},
   "outputs": [],
   "source": [
    "sns.boxplot(gaps.gap)"
   ]
  },
  {
   "cell_type": "markdown",
   "metadata": {},
   "source": [
    "## Assortment for chain\n",
    "\n",
    "We first need to run the preference model on all leaves to get lambdas. Then we calculate prices for a given chain in each leaf. Finally, we optimize/ Steps:\n",
    "1. Generate preference model inputs for all leaves (done above)\n",
    "2. Get the set of products available in total (done above)\n",
    "3. Generate preference rankings (done above)\n",
    "4. Generate A matrices for each leaf (done above)\n",
    "5. Run preference model in each leaf (done above)\n",
    "6. Get prices for the chain in each leaf for each product\n",
    "7. Get weights for each leaf"
   ]
  },
  {
   "cell_type": "code",
   "execution_count": null,
   "metadata": {},
   "outputs": [],
   "source": [
    "texas_df.groupby(['channel']).CHAINNAME.value_counts()"
   ]
  },
  {
   "cell_type": "code",
   "execution_count": null,
   "metadata": {},
   "outputs": [],
   "source": [
    "prices = dict()\n",
    "chain = \"MURPHY USA\"\n",
    "\n",
    "stripesDf = (texas_df.loc[texas_df['CHAINNAME'] == chain,\n",
    "              ['rtlr_party_id','CHAINNAME', 'dp_nbr']].drop_duplicates()\n",
    "             .merge(julia_df, on ='rtlr_party_id', how = 'inner'))\n",
    "stripesDf = stripesDf[stripesDf.dp_nbr == stripesDf.dp_nbr.iloc[0]]\n",
    "# start by trying to get median prices in that leaf from just the chain\n",
    "for leaf in julia_df['leaf'].unique():\n",
    "    stripesDfLeaf = stripesDf[stripesDf['leaf'] == leaf]\n",
    "    prices[leaf] = {prod:stripesDfLeaf[stripesDfLeaf['aggr_id'] == prod]['meanPrice_1'].median() for prod in products}\n",
    "    assert all(prices[leaf].values()) > 0\n",
    "    prices[leaf]['no_purchase'] = 0\n",
    "\n",
    "# if we can't get prices from just the chain, use data from all stores at that chain in the state\n",
    "stripesDfAll = (texas_df.loc[texas_df['CHAINNAME'] == chain,\n",
    "              ['rtlr_party_id','CHAINNAME', 'dp_nbr']].drop_duplicates()\n",
    "             .merge(julia_df, on ='rtlr_party_id', how = 'inner'))\n",
    "for leaf in julia_df['leaf'].unique():\n",
    "    for prod in products:\n",
    "        if np.isnan(prices[leaf][prod]):\n",
    "            prices[leaf][prod] = stripesDfAll[stripesDfAll['aggr_id'] == prod]['meanPrice_1'].median()\n",
    "            \n",
    "\n",
    "\n",
    "# finally, just use all data in the leaf\n",
    "for leaf in julia_df['leaf'].unique():\n",
    "    for prod in products:\n",
    "        if np.isnan(prices[leaf][prod]):\n",
    "            prices[leaf][prod] = julia_df[julia_df['aggr_id'] == prod]['meanPrice_1'].median()\n",
    "            \n",
    "# Check that we have all real prices\n",
    "assert all([all(map(np.isnan, prices[leaf].values())) for leaf in julia_df['leaf'].unique()]) == False"
   ]
  },
  {
   "cell_type": "code",
   "execution_count": null,
   "metadata": {},
   "outputs": [],
   "source": [
    "texas_df[texas_df['dp_nbr'] == stripesDf.dp_nbr.iloc[0]].rtlr_party_id.nunique()"
   ]
  },
  {
   "cell_type": "code",
   "execution_count": null,
   "metadata": {},
   "outputs": [],
   "source": [
    "clusterWeights = dict(stripesDf.leaf.value_counts(normalize=True))\n",
    "leaves = stripesDf['leaf'].unique()\n",
    "lam = {leaf:optimal[leaf]['lambda'] for leaf in leaves}"
   ]
  },
  {
   "cell_type": "code",
   "execution_count": null,
   "metadata": {},
   "outputs": [],
   "source": [
    "clusterWeights"
   ]
  },
  {
   "cell_type": "code",
   "execution_count": null,
   "metadata": {},
   "outputs": [],
   "source": [
    "from pyomo.environ import *\n",
    "from pyomo.opt import SolverFactory\n",
    "\n",
    "def optimizeChainDpAssortment(products, prefs, prices, lam, weights, leaves, currentAssortment = None, numChangesFromCurrent = None,\n",
    "                             disallowedProducts = [], holdAssortmentSizeConstant = False):\n",
    "    '''\n",
    "    Find the optimal assortment.\n",
    "    Args:\n",
    "        products (list): list of products for the assortment\n",
    "        prefs (Dict): Dictionary of preference rankings used to generate the A matrix\n",
    "        prices (Dict): Dictionary of prices (values) associated with each product (key)\n",
    "        lam (numpy array): Array of coefficients from the preference model or lasso corresponding to weights on the \n",
    "                           columns of A\n",
    "    Returns:\n",
    "        assortment (Dict): Dictionary with products for keys and 1 or 0 in the value indicating whether a product is in\n",
    "                           the assortment.\n",
    "    '''\n",
    "    \n",
    "    if numChangesFromCurrent != None:\n",
    "        assert numChangesFromCurrent >= 0, \"changes must be non-negative\"\n",
    "        assert currentAssortment != None, \"you must provide the current assortment to specify number of allowed changes\"\n",
    "    \n",
    "    m = ConcreteModel()\n",
    "    \n",
    "    num_products = len(products)\n",
    "    num_rankings = len(prefs.keys())\n",
    "    \n",
    "    # Variables\n",
    "    m.x = Var(products, within=Binary)\n",
    "    ySet = [(product, ranking) for product in products for ranking in prefs.keys()]\n",
    "    assert len(ySet) == num_products * num_rankings\n",
    "    m.y = Var(ySet, within=NonNegativeReals)\n",
    "\n",
    "    # Constraints\n",
    "    def oneChoiceRule(m,ranking):\n",
    "        return(sum(m.y[(prod, rank)] for (prod, rank) in ySet if rank == ranking) == 1)\n",
    "    m.oneChoice = Constraint(range(num_rankings), rule = oneChoiceRule)\n",
    "\n",
    "    def chooseOnlyIfInAssortmentRule(m, product, ranking):\n",
    "        return(m.y[(product,ranking)] <= m.x[product])\n",
    "    m.chooseOnlyIfInAssortment = Constraint(products, prefs.keys(), rule = chooseOnlyIfInAssortmentRule)\n",
    "\n",
    "    def getLessPrefferedProducts(product, ranking):\n",
    "        indx = prefs[ranking].index(product)\n",
    "        return(prefs[ranking][(indx+1):])\n",
    "    def lessPreferredRule(m, product, ranking):\n",
    "        lessPreffered = getLessPrefferedProducts(product, ranking)\n",
    "        return(sum(m.y[(prod, ranking)] for prod in lessPreffered) <= 1 - m.x[product])\n",
    "    m.lessPreffered = Constraint(products, prefs.keys(), rule = lessPreferredRule)\n",
    "    \n",
    "    m.alwaysAllowNoPurchase = Constraint(expr = m.x['no_purchase'] == 1)\n",
    "    \n",
    "    if numChangesFromCurrent != None:\n",
    "        currentAssortmentSize = len(currentAssortment)\n",
    "        m.currentLowerBound = Constraint(expr = sum(m.x[prod] for prod in currentAssortment) >= (currentAssortmentSize - numChangesFromCurrent))\n",
    "        possibleNewProducts = set(products).difference(set(currentAssortment))\n",
    "        m.currentUpperBound = Constraint(expr = sum(m.x[prod] for prod in possibleNewProducts) <= numChangesFromCurrent)\n",
    "    \n",
    "    def disallowedProductsRule(m, product):\n",
    "        return(m.x[product] == 0)\n",
    "    m.disallowedProducts = Constraint(disallowedProducts, rule = disallowedProductsRule)\n",
    "    \n",
    "    if holdAssortmentSizeConstant == True:\n",
    "        assert currentAssortment != None, \"you must provide the current assortment to keep the size constant\" \n",
    "        m.constantAssortmentSize = Constraint(expr = sum(m.x[prod] for prod in products) == len(currentAssortment))\n",
    "    \n",
    "    # Objective\n",
    "    m.obj = Objective(sense = maximize, expr = sum(weights[leaf] * sum(sum(prices[leaf][prod] * lam[leaf][rank] * m.y[(prod, rank)] \n",
    "                                                    for prod in products) for rank in prefs.keys())for leaf in leaves))\n",
    "    \n",
    "    # Solve model\n",
    "    solver = SolverFactory('gurobi')\n",
    "    results = solver.solve(m)\n",
    "    \n",
    "    # Returns\n",
    "    assortment = {prod:m.x[prod].value for prod in products}\n",
    "    return(assortment)\n"
   ]
  },
  {
   "cell_type": "code",
   "execution_count": null,
   "metadata": {},
   "outputs": [],
   "source": [
    "currentAssortment = set(stripesDf.aggr_id.value_counts().where(lambda x : x >= 89 * 0.8).dropna().index).union(set(['no_purchase']))"
   ]
  },
  {
   "cell_type": "code",
   "execution_count": null,
   "metadata": {},
   "outputs": [],
   "source": [
    "temp = julia_df.merge(texas_df.loc[texas_df['crctd_city_nm'] == \"DALLAS\",['rtlr_party_id','crctd_city_nm']], on  = 'rtlr_party_id', how = 'inner')\n",
    "dallasProducts = temp[temp['crctd_city_nm'] == \"DALLAS\"].aggr_id.unique()"
   ]
  },
  {
   "cell_type": "code",
   "execution_count": null,
   "metadata": {},
   "outputs": [],
   "source": [
    "dallasProducts.head()"
   ]
  },
  {
   "cell_type": "code",
   "execution_count": null,
   "metadata": {},
   "outputs": [],
   "source": [
    "stripesAssortment = optimizeChainDpAssortment(products = products, prefs = prefs, prices = prices, lam = lam,\n",
    "                                              weights = clusterWeights, leaves = leaves, currentAssortment = currentAssortment,\n",
    "                                              numChangesFromCurrent = 1, disallowedProducts = [])"
   ]
  },
  {
   "cell_type": "code",
   "execution_count": null,
   "metadata": {},
   "outputs": [],
   "source": [
    "temp = set([k for (k,v) in stripesAssortment.items() if v > 0]).difference(currentAssortment)\n",
    "print \"The model recommends adding the following packages:\"\n",
    "print\n",
    "PreferenceModeling.prettyPrintList([upcBrandPackageMapping[x] for x in temp])"
   ]
  },
  {
   "cell_type": "code",
   "execution_count": null,
   "metadata": {},
   "outputs": [],
   "source": [
    "temp = currentAssortment.difference(set([k for (k,v) in stripesAssortment.items() if v > 0]))\n",
    "print \"The model recommends removing the following packages:\"\n",
    "print\n",
    "PreferenceModeling.prettyPrintList([upcBrandPackageMapping[x] for x in temp])"
   ]
  },
  {
   "cell_type": "code",
   "execution_count": null,
   "metadata": {},
   "outputs": [],
   "source": [
    "temp = [upcBrandPackageMapping[k] for (k,v) in stripesAssortment.items() if v > 0]\n",
    "temp.sort()\n",
    "print 'The model recommends having the following {0} out of {1} products:'.format(len(temp),len(products))\n",
    "print\n",
    "PreferenceModeling.prettyPrintList(temp)"
   ]
  },
  {
   "cell_type": "code",
   "execution_count": null,
   "metadata": {},
   "outputs": [],
   "source": [
    "temp = set(stripesDf.aggr_id.unique()).difference(set([k for (k,v) in stripesAssortment.items() if v > 0]))\n",
    "dfChart = stripesDf[stripesDf['aggr_id'].isin(temp)].aggr_id.value_counts().where(lambda x : x >= 89 * 0.8).dropna()\n",
    "yChart = [upcBrandPackageMapping[x] for x in dfChart.index]\n",
    "yChart.sort()\n",
    "\n",
    "print 'The following {0} products are in at least 80% of stores but the model recommends removing them'.format(len(yChart))\n",
    "print\n",
    "PreferenceModeling.prettyPrintList(yChart)"
   ]
  },
  {
   "cell_type": "code",
   "execution_count": null,
   "metadata": {},
   "outputs": [],
   "source": [
    "percent = 0.25\n",
    "prodsInMostStores = stripesDf.aggr_id.value_counts().where(lambda x : x >= 89 * percent).dropna().index\n",
    "temp2 = set(set([k for (k,v) in stripesAssortment.items() if v > 0])).difference(set(prodsInMostStores)).difference(set(['no_purchase']))\n",
    "temp2 = [upcBrandPackageMapping[x] for x in temp2]\n",
    "temp2.sort()\n",
    "\n",
    "print 'The following {0} products are recommended by the model but are not in at least {1}% of stores'.format(len(temp2), percent * 100)\n",
    "print\n",
    "PreferenceModeling.prettyPrintList(temp2)"
   ]
  },
  {
   "cell_type": "code",
   "execution_count": null,
   "metadata": {},
   "outputs": [],
   "source": [
    "optimalSharesDf = pd.DataFrame()\n",
    "inAssortment = [k for (k,v) in stripesAssortment.items() if v > 0]\n",
    "for leaf in clusterWeights.keys():\n",
    "    temp = PreferenceModeling.predictShares(inAssortment, optimal[leaf]['prefs'], optimal[leaf]['lambda'])\n",
    "    temp = temp.merge(productSegmentMapping, left_on = \"Product\", right_on = \"aggr_id\", how = \"inner\")\n",
    "    temp['leaf'] = leaf\n",
    "    optimalSharesDf = pd.concat([optimalSharesDf,temp])"
   ]
  },
  {
   "cell_type": "code",
   "execution_count": null,
   "metadata": {},
   "outputs": [],
   "source": [
    "optimalSharesDf['leafWeight'] = optimalSharesDf.leaf.apply(lambda x: clusterWeights[x])\n",
    "optimalSharesDf['weightedShare'] = optimalSharesDf['Share'] * optimalSharesDf['leafWeight']\n",
    "optimalSharesDf = optimalSharesDf[~(optimalSharesDf[\"Product\"] == 'no_purchase')]\n",
    "optimalSharesDf['scaledShare'] = optimalSharesDf['weightedShare'] / optimalSharesDf['weightedShare'].sum()"
   ]
  },
  {
   "cell_type": "code",
   "execution_count": null,
   "metadata": {},
   "outputs": [],
   "source": [
    "fig, ax = plt.subplots()\n",
    "# the size of A4 paper\n",
    "fig.set_size_inches(11, 8.5)\n",
    "optimalSharesDf.groupby('IRI_Sub_Segment').weightedShare.sum().sort_values().plot.barh()"
   ]
  },
  {
   "cell_type": "markdown",
   "metadata": {},
   "source": [
    "#### Analysis of assortment performance"
   ]
  },
  {
   "cell_type": "code",
   "execution_count": null,
   "metadata": {},
   "outputs": [],
   "source": [
    "accts = pd.read_csv(path + 'accts_texas2.rpt', error_bad_lines=False)"
   ]
  },
  {
   "cell_type": "code",
   "execution_count": null,
   "metadata": {},
   "outputs": [],
   "source": [
    "sales = pd.read_csv(path + \"yoy_sales.csv\")\n",
    "sales = sales[sales['reset17'] == '2017 Spring']\n",
    "sales = sales[np.abs(sales.yoy_growth-sales.yoy_growth.mean()) <= (3*sales.yoy_growth.std())]\n",
    "sales = sales[np.abs(sales['yoy_growth']) < 0.4]"
   ]
  },
  {
   "cell_type": "code",
   "execution_count": null,
   "metadata": {},
   "outputs": [],
   "source": [
    "texas_df['movementPerDay'] = texas_df['UNITMOVEMENT'] / texas_df['MOVEMENTPERIODUSED']\n",
    "averageMovementDf = texas_df.groupby('rtlr_party_id').movementPerDay.sum().reset_index()"
   ]
  },
  {
   "cell_type": "code",
   "execution_count": null,
   "metadata": {},
   "outputs": [],
   "source": [
    "jaccardDf = dict()\n",
    "\n",
    "for leaf in julia_df.leaf.unique():\n",
    "    tempDf = julia_df[julia_df['leaf'] == leaf]\n",
    "    inAssortment = optimal[leaf]['assortment']\n",
    "    for rtlr in tempDf.rtlr_party_id.unique():\n",
    "        jaccardDf[rtlr] = (float(len(set(tempDf[tempDf['rtlr_party_id'] == rtlr].aggr_id).intersection(inAssortment))) /\n",
    "                             float(len(set(tempDf[tempDf['rtlr_party_id'] == rtlr].aggr_id).union(inAssortment))))\n",
    "    \n",
    "jaccardDf = pd.DataFrame(jaccardDf.items(), columns = ['rtlr_party_id', 'similarity'])\n",
    "jaccardDf = jaccardDf.sort_values(by = 'similarity', ascending = False)\n",
    "jaccardDf = jaccardDf.merge(averageMovementDf, on = 'rtlr_party_id', how = 'inner')\n",
    "jaccardDf = jaccardDf.merge(accts[['rtlr_party_id', 'channel','segment']], on = 'rtlr_party_id', how = 'inner')\n",
    "jaccardDf = jaccardDf.merge(sales, left_on='rtlr_party_id', right_on = 'retailer_party_id', how = 'inner')"
   ]
  },
  {
   "cell_type": "code",
   "execution_count": null,
   "metadata": {},
   "outputs": [],
   "source": [
    "jaccardDf.yoy_growth.median()"
   ]
  },
  {
   "cell_type": "code",
   "execution_count": null,
   "metadata": {},
   "outputs": [],
   "source": [
    "mod = smf.ols(formula='yoy_growth ~ similarity + channel', data=jaccardDf)\n",
    "res = mod.fit()\n",
    "print(res.summary())"
   ]
  },
  {
   "cell_type": "markdown",
   "metadata": {},
   "source": [
    "# Old code for generating preference model data"
   ]
  },
  {
   "cell_type": "code",
   "execution_count": null,
   "metadata": {},
   "outputs": [],
   "source": [
    "family_agg_df, family_agg_dict = Rollup.rollup(texas_df,cutoff = 0.6, column = \"Category\", AB_only = False, other_only = False)"
   ]
  },
  {
   "cell_type": "code",
   "execution_count": null,
   "metadata": {},
   "outputs": [],
   "source": [
    "family_agg_df.agg_UPC.nunique()"
   ]
  },
  {
   "cell_type": "code",
   "execution_count": null,
   "metadata": {},
   "outputs": [],
   "source": [
    "austin_df = texas_df[(texas_df['crctd_city_nm'] == \"AUSTIN\") & (texas_df['RESETNAME'] == \"2017 Spring\")]\n",
    "convenience_df = texas_df[texas_df['channel'] == \"CONVENIENCE\"]\n",
    "cluster_df = texas_df[texas_df['segment'] == \"Med Hispanic Non-Urban\"]"
   ]
  },
  {
   "cell_type": "code",
   "execution_count": null,
   "metadata": {},
   "outputs": [],
   "source": []
  },
  {
   "cell_type": "code",
   "execution_count": null,
   "metadata": {},
   "outputs": [],
   "source": [
    "import random\n",
    "accounts = family_agg_df.WHOLESALER_CUSTOMER_PARTY_ID.unique()\n",
    "train_num = int(len(accounts)*0.75) # 0.75 in training set, 0.25 in validation set\n",
    "train_accounts = random.sample(accounts, train_num)\n",
    "train = family_agg_df[family_agg_df.WHOLESALER_CUSTOMER_PARTY_ID.isin(train_accounts)]\n",
    "val = family_agg_df[-family_agg_df.WHOLESALER_CUSTOMER_PARTY_ID.isin(train_accounts)]"
   ]
  },
  {
   "cell_type": "code",
   "execution_count": null,
   "metadata": {},
   "outputs": [],
   "source": [
    "mnlDf_train = PreferenceModeling.generateShareData(train, 'agg_UPC', 'total_volume_oz_per_day', 'categoryShare')\n",
    "mnlDf_val = PreferenceModeling.generateShareData(val, 'agg_UPC', 'total_volume_oz_per_day', 'categoryShare')"
   ]
  },
  {
   "cell_type": "markdown",
   "metadata": {},
   "source": [
    "#### MNL"
   ]
  },
  {
   "cell_type": "code",
   "execution_count": null,
   "metadata": {},
   "outputs": [],
   "source": [
    "res = PreferenceModeling.fitMNL(mnlDf_train,'categoryShare','agg_UPC','rtlr_party_id')"
   ]
  },
  {
   "cell_type": "code",
   "execution_count": null,
   "metadata": {},
   "outputs": [],
   "source": [
    "coefs = PreferenceModeling.stripStatsModelVariableInformation(res,'Category','rtlr_party_id')"
   ]
  },
  {
   "cell_type": "code",
   "execution_count": null,
   "metadata": {},
   "outputs": [],
   "source": [
    "preds_test = PreferenceModeling.predictMNL(mnlDf_val,coefs,'Category','rtlr_party_id')\n",
    "preds_train = PreferenceModeling.predictMNL(mnlDf_train,coefs,'Category','rtlr_party_id')"
   ]
  },
  {
   "cell_type": "code",
   "execution_count": null,
   "metadata": {},
   "outputs": [],
   "source": [
    "mnl_train_absolute_error = np.abs(preds_train['estimated_share'] - preds_train['categoryShare'])\n",
    "mnl_val_absolute_error = np.abs(preds_test['estimated_share'] - preds_test['categoryShare'])\n",
    "\n",
    "mnl_val_percent_error = mnl_val_absolute_error / preds_test['categoryShare']"
   ]
  },
  {
   "cell_type": "code",
   "execution_count": null,
   "metadata": {},
   "outputs": [],
   "source": [
    "print(\"train mape:\")\n",
    "print np.sum(mnl_train_absolute_error / preds_train['categoryShare']) / preds_train.shape[0]\n",
    "print(\"train mae:\")\n",
    "print np.sum(mnl_train_absolute_error) / preds_train.shape[0]\n",
    "print\n",
    "print(\"test mape:\")\n",
    "print np.sum(mnl_val_absolute_error / preds_test['categoryShare']) / preds_test.shape[0]\n",
    "print(\"test mae:\")\n",
    "print np.sum(mnl_val_absolute_error) / preds_test.shape[0]"
   ]
  },
  {
   "cell_type": "markdown",
   "metadata": {},
   "source": [
    "#### Velibor"
   ]
  },
  {
   "cell_type": "code",
   "execution_count": null,
   "metadata": {},
   "outputs": [],
   "source": [
    "optIn = PreferenceModeling.generateVeliborPreferenceModelInputs(mnlDf_train,'agg_UPC','categoryShare', 'rtlr_party_id')\n",
    "evalIn = PreferenceModeling.generateVeliborPreferenceModelInputs(mnlDf_val,'agg_UPC','categoryShare', 'rtlr_party_id')"
   ]
  },
  {
   "cell_type": "code",
   "execution_count": null,
   "metadata": {},
   "outputs": [],
   "source": [
    "result = PreferenceModeling.solveModel(optIn[\"v\"], optIn[\"assortments\"], optIn[\"stores\"], optIn[\"products\"], max_iterations = 5, num_start_cols = 100)"
   ]
  },
  {
   "cell_type": "code",
   "execution_count": null,
   "metadata": {},
   "outputs": [],
   "source": [
    "veliborEval = PreferenceModeling.evaluateVeliborModel(evalIn, result[\"rankings\"], result[\"master\"][\"lambda\"])\n",
    "veliborEval"
   ]
  },
  {
   "cell_type": "code",
   "execution_count": null,
   "metadata": {},
   "outputs": [],
   "source": [
    "A = PreferenceModeling.createTestA(evalIn, result[\"rankings\"])\n",
    "absolute_errors = PreferenceModeling.veliborAbsoluteErrors(A, result[\"master\"][\"lambda\"], evalIn[\"v\"])"
   ]
  },
  {
   "cell_type": "code",
   "execution_count": null,
   "metadata": {},
   "outputs": [],
   "source": [
    "keys = A[0].keys()\n",
    "percent_errors = {key:absolute_errors[key]/(evalIn[\"v\"][key][0]) for key in keys}"
   ]
  },
  {
   "cell_type": "code",
   "execution_count": null,
   "metadata": {},
   "outputs": [],
   "source": []
  },
  {
   "cell_type": "code",
   "execution_count": null,
   "metadata": {},
   "outputs": [],
   "source": []
  },
  {
   "cell_type": "code",
   "execution_count": null,
   "metadata": {},
   "outputs": [],
   "source": []
  },
  {
   "cell_type": "code",
   "execution_count": null,
   "metadata": {},
   "outputs": [],
   "source": [
    "print max(absolute_errors.values())\n",
    "print min(absolute_errors.values())"
   ]
  },
  {
   "cell_type": "code",
   "execution_count": null,
   "metadata": {},
   "outputs": [],
   "source": [
    "print max(percent_errors.values())\n",
    "print min(percent_errors.values())"
   ]
  },
  {
   "cell_type": "code",
   "execution_count": null,
   "metadata": {},
   "outputs": [],
   "source": [
    "print np.max(mnl_val_absolute_error)\n",
    "print np.min(mnl_val_absolute_error)"
   ]
  },
  {
   "cell_type": "code",
   "execution_count": null,
   "metadata": {},
   "outputs": [],
   "source": [
    "print np.max(mnl_val_percent_error)\n",
    "print np.min(mnl_val_percent_error)"
   ]
  },
  {
   "cell_type": "code",
   "execution_count": null,
   "metadata": {},
   "outputs": [],
   "source": []
  },
  {
   "cell_type": "code",
   "execution_count": null,
   "metadata": {},
   "outputs": [],
   "source": []
  },
  {
   "cell_type": "code",
   "execution_count": null,
   "metadata": {},
   "outputs": [],
   "source": [
    "sns.distplot(percent_errors.values())"
   ]
  },
  {
   "cell_type": "code",
   "execution_count": null,
   "metadata": {},
   "outputs": [],
   "source": [
    "sns.distplot(mnl_val_percent_error)"
   ]
  },
  {
   "cell_type": "code",
   "execution_count": null,
   "metadata": {},
   "outputs": [],
   "source": [
    "sns.boxplot(percent_errors.values())"
   ]
  },
  {
   "cell_type": "code",
   "execution_count": null,
   "metadata": {},
   "outputs": [],
   "source": [
    "sns.boxplot(mnl_val_percent_error)"
   ]
  },
  {
   "cell_type": "code",
   "execution_count": null,
   "metadata": {},
   "outputs": [],
   "source": [
    "temp = mnlDf_val.groupby('Category').categoryShare.describe()\n",
    "temp['normalized_range'] = (temp['max'] - temp['min'])/temp['mean']\n",
    "temp"
   ]
  },
  {
   "cell_type": "code",
   "execution_count": null,
   "metadata": {},
   "outputs": [],
   "source": [
    "temp = pd.DataFrame(index = percent_errors.keys())\n",
    "temp['percent_error'] = percent_errors.values()\n",
    "temp = temp.reset_index()\n",
    "def firstTup(tup):\n",
    "    return(tup[0])\n",
    "def sndTup(tup):\n",
    "    return(tup[1])\n",
    "temp['store'] = temp['index'].apply(firstTup)\n",
    "temp['product'] = temp['index'].apply(sndTup)\n",
    "temp = temp.drop('index',axis=1)\n",
    "\n",
    "temp_pivot = temp.groupby('product').percent_error.describe()\n",
    "temp_pivot['mape_contribution'] = ((temp_pivot['mean'] * temp_pivot['count'])/temp_pivot['count'].sum())/veliborEval['mape']\n",
    "temp_pivot = temp_pivot.sort_values('mape_contribution',ascending = False)\n",
    "print (temp_pivot['mean'] * temp_pivot['count']).sum()/temp_pivot['count'].sum()\n",
    "temp_pivot"
   ]
  },
  {
   "cell_type": "code",
   "execution_count": null,
   "metadata": {},
   "outputs": [],
   "source": [
    "temp_store = temp.groupby('store').percent_error.describe()\n",
    "temp_store['mape_contribution'] = ((temp_store['mean'] * temp_store['count'])/temp_store['count'].sum())/veliborEval['mape']\n",
    "temp_store = temp_store.reset_index()\n",
    "temp_store= temp_store.merge(accts, left_on = 'store', right_on = 'rtlr_party_id',\n",
    "                                         how = 'inner')\n",
    "temp_store = temp_store.sort_values('mape_contribution',ascending = False)\n",
    "temp_store.segment = temp_store.segment.fillna(\"none\")\n",
    "print (temp_store['mean'] * temp_store['count']).sum() / temp_store['count'].sum() - veliborEval['mape']"
   ]
  },
  {
   "cell_type": "code",
   "execution_count": null,
   "metadata": {},
   "outputs": [],
   "source": [
    "temp_store.head()"
   ]
  },
  {
   "cell_type": "code",
   "execution_count": null,
   "metadata": {},
   "outputs": [],
   "source": [
    "segment_pivot = temp_store.groupby('segment')['mean'].describe()\n",
    "segment_pivot['mape_contribution'] = ((segment_pivot['mean'] * segment_pivot['count'])/segment_pivot['count'].sum())/veliborEval['mape']\n",
    "segment_pivot = segment_pivot.reset_index()\n",
    "segment_pivot = segment_pivot.sort_values('mape_contribution',ascending = False)\n",
    "segment_pivot"
   ]
  },
  {
   "cell_type": "code",
   "execution_count": null,
   "metadata": {},
   "outputs": [],
   "source": []
  },
  {
   "cell_type": "code",
   "execution_count": null,
   "metadata": {},
   "outputs": [],
   "source": [
    "print (segment_pivot['mean'] * segment_pivot['count']).sum() / segment_pivot['count'].sum()"
   ]
  },
  {
   "cell_type": "code",
   "execution_count": null,
   "metadata": {},
   "outputs": [],
   "source": []
  },
  {
   "cell_type": "code",
   "execution_count": null,
   "metadata": {},
   "outputs": [],
   "source": []
  },
  {
   "cell_type": "code",
   "execution_count": null,
   "metadata": {},
   "outputs": [],
   "source": []
  },
  {
   "cell_type": "code",
   "execution_count": null,
   "metadata": {},
   "outputs": [],
   "source": [
    "iceCream = PreferenceModeling.loadVeliborIceCreamPreferenceTestData()"
   ]
  },
  {
   "cell_type": "code",
   "execution_count": null,
   "metadata": {},
   "outputs": [],
   "source": [
    "result = solveModel(iceCream[\"v\"], iceCream[\"assortments\"], iceCream[\"stores\"], iceCream[\"products\"], num_start_cols = 2)"
   ]
  },
  {
   "cell_type": "code",
   "execution_count": null,
   "metadata": {},
   "outputs": [],
   "source": []
  },
  {
   "cell_type": "code",
   "execution_count": null,
   "metadata": {},
   "outputs": [],
   "source": []
  },
  {
   "cell_type": "code",
   "execution_count": null,
   "metadata": {},
   "outputs": [],
   "source": []
  },
  {
   "cell_type": "code",
   "execution_count": null,
   "metadata": {},
   "outputs": [],
   "source": []
  },
  {
   "cell_type": "code",
   "execution_count": null,
   "metadata": {},
   "outputs": [],
   "source": []
  },
  {
   "cell_type": "markdown",
   "metadata": {},
   "source": [
    "#### Old"
   ]
  },
  {
   "cell_type": "code",
   "execution_count": null,
   "metadata": {},
   "outputs": [],
   "source": [
    "jda = pd.read_csv(path + 'JDA_Cloud_2017.csv')\n",
    "upc = pd.read_csv(path + 'packages.csv')"
   ]
  },
  {
   "cell_type": "code",
   "execution_count": null,
   "metadata": {},
   "outputs": [],
   "source": [
    "accts = pd.read_csv(path + 'accts_texas2.rpt', error_bad_lines=False)"
   ]
  },
  {
   "cell_type": "code",
   "execution_count": null,
   "metadata": {},
   "outputs": [],
   "source": [
    "upc = pd.read_csv(path+'iriupc.txt', error_bad_lines=False)\n",
    "iri = pd.read_csv(path +'iri1.rpt', error_bad_lines=False)"
   ]
  },
  {
   "cell_type": "code",
   "execution_count": null,
   "metadata": {},
   "outputs": [],
   "source": [
    "accts.head()"
   ]
  },
  {
   "cell_type": "code",
   "execution_count": null,
   "metadata": {},
   "outputs": [],
   "source": []
  }
 ],
 "metadata": {
  "kernelspec": {
   "display_name": "Python 2",
   "language": "python",
   "name": "python2"
  },
  "language_info": {
   "codemirror_mode": {
    "name": "ipython",
    "version": 2
   },
   "file_extension": ".py",
   "mimetype": "text/x-python",
   "name": "python",
   "nbconvert_exporter": "python",
   "pygments_lexer": "ipython2",
   "version": "2.7.15"
  }
 },
 "nbformat": 4,
 "nbformat_minor": 2
}
